{
 "cells": [
  {
   "cell_type": "markdown",
   "metadata": {},
   "source": [
    "# Stage D Quiz - Section 2 (Kaggle Project)"
   ]
  },
  {
   "cell_type": "markdown",
   "metadata": {},
   "source": [
    "**Build artificial intelligence algorithms to label satellite image chips with different atmospheric conditions and the different classes of land cover/land use.  For this Multi-class Multi-Label problem, some of the labels are from the following categories: Cloud Cover (clear, partly, cloudy, haze), Primary RainForest, Water (rivers, lakes), Habitation (large city, small homes), Agriculture, Roads etc. The algorithms from this project will enable us to understand where, how and why deforestation happens.**"
   ]
  },
  {
   "cell_type": "markdown",
   "metadata": {},
   "source": [
    "# Import Libraries"
   ]
  },
  {
   "cell_type": "code",
   "execution_count": 61,
   "metadata": {
    "execution": {
     "iopub.execute_input": "2023-01-16T18:21:04.301900Z",
     "iopub.status.busy": "2023-01-16T18:21:04.301374Z",
     "iopub.status.idle": "2023-01-16T18:21:04.312252Z",
     "shell.execute_reply": "2023-01-16T18:21:04.310668Z",
     "shell.execute_reply.started": "2023-01-16T18:21:04.301863Z"
    }
   },
   "outputs": [],
   "source": [
    "import os\n",
    "import pandas as pd\n",
    "import numpy as np\n",
    "import tensorflow as tf\n",
    "import matplotlib.pyplot as plt\n",
    "import gc\n",
    "import numpy as np\n",
    "from keras import backend as K\n",
    "from sklearn.metrics import fbeta_score\n",
    "from keras.layers import Conv2D, Dense, LSTM, Flatten, MaxPooling2D, BatchNormalization, Dropout\n",
    "from sklearn.model_selection import train_test_split\n",
    "from sklearn.preprocessing import LabelEncoder\n",
    "from sklearn.preprocessing import OneHotEncoder\n",
    "from tensorflow.keras.preprocessing.image import load_img, img_to_array\n",
    "from sklearn.metrics import fbeta_score\n",
    "from tqdm import tqdm\n",
    "from sklearn.utils import shuffle\n",
    "import cv2\n",
    "from PIL import Image\n",
    "from tensorflow import keras\n",
    "from tensorflow.keras.layers import Dense\n",
    "from tensorflow.keras.models import Sequential \n",
    "import seaborn as sns\n",
    "import tensorflow as tf\n",
    "import matplotlib.pyplot as plt\n",
    "import matplotlib.image as mpimg\n",
    "from keras.callbacks import ModelCheckpoint, EarlyStopping, ReduceLROnPlateau, History"
   ]
  },
  {
   "cell_type": "markdown",
   "metadata": {},
   "source": [
    "# Read Dataset"
   ]
  },
  {
   "cell_type": "code",
   "execution_count": 62,
   "metadata": {
    "execution": {
     "iopub.execute_input": "2023-01-16T18:21:04.381642Z",
     "iopub.status.busy": "2023-01-16T18:21:04.381175Z",
     "iopub.status.idle": "2023-01-16T18:21:04.488270Z",
     "shell.execute_reply": "2023-01-16T18:21:04.486567Z",
     "shell.execute_reply.started": "2023-01-16T18:21:04.381601Z"
    }
   },
   "outputs": [
    {
     "data": {
      "text/html": [
       "<div>\n",
       "<style scoped>\n",
       "    .dataframe tbody tr th:only-of-type {\n",
       "        vertical-align: middle;\n",
       "    }\n",
       "\n",
       "    .dataframe tbody tr th {\n",
       "        vertical-align: top;\n",
       "    }\n",
       "\n",
       "    .dataframe thead th {\n",
       "        text-align: right;\n",
       "    }\n",
       "</style>\n",
       "<table border=\"1\" class=\"dataframe\">\n",
       "  <thead>\n",
       "    <tr style=\"text-align: right;\">\n",
       "      <th></th>\n",
       "      <th>image_name</th>\n",
       "      <th>tags</th>\n",
       "    </tr>\n",
       "  </thead>\n",
       "  <tbody>\n",
       "    <tr>\n",
       "      <th>0</th>\n",
       "      <td>train_0</td>\n",
       "      <td>haze primary</td>\n",
       "    </tr>\n",
       "    <tr>\n",
       "      <th>1</th>\n",
       "      <td>train_1</td>\n",
       "      <td>agriculture clear primary water</td>\n",
       "    </tr>\n",
       "    <tr>\n",
       "      <th>2</th>\n",
       "      <td>train_2</td>\n",
       "      <td>clear primary</td>\n",
       "    </tr>\n",
       "    <tr>\n",
       "      <th>3</th>\n",
       "      <td>train_3</td>\n",
       "      <td>clear primary</td>\n",
       "    </tr>\n",
       "    <tr>\n",
       "      <th>4</th>\n",
       "      <td>train_4</td>\n",
       "      <td>agriculture clear habitation primary road</td>\n",
       "    </tr>\n",
       "  </tbody>\n",
       "</table>\n",
       "</div>"
      ],
      "text/plain": [
       "  image_name                                       tags\n",
       "0    train_0                               haze primary\n",
       "1    train_1            agriculture clear primary water\n",
       "2    train_2                              clear primary\n",
       "3    train_3                              clear primary\n",
       "4    train_4  agriculture clear habitation primary road"
      ]
     },
     "execution_count": 62,
     "metadata": {},
     "output_type": "execute_result"
    }
   ],
   "source": [
    "#read dataset\n",
    "train_data = pd.read_csv('/kaggle/input/planets-dataset/planet/planet/train_classes.csv')\n",
    "sample_submission = pd.read_csv('/kaggle/input/planets-dataset/planet/planet/sample_submission.csv')\n",
    "train_data.head()"
   ]
  },
  {
   "cell_type": "markdown",
   "metadata": {},
   "source": [
    "# Data Analysis and Encoding"
   ]
  },
  {
   "cell_type": "code",
   "execution_count": 63,
   "metadata": {
    "execution": {
     "iopub.execute_input": "2023-01-16T18:21:04.495094Z",
     "iopub.status.busy": "2023-01-16T18:21:04.494690Z",
     "iopub.status.idle": "2023-01-16T18:21:04.513544Z",
     "shell.execute_reply": "2023-01-16T18:21:04.511975Z",
     "shell.execute_reply.started": "2023-01-16T18:21:04.495062Z"
    }
   },
   "outputs": [
    {
     "data": {
      "text/html": [
       "<div>\n",
       "<style scoped>\n",
       "    .dataframe tbody tr th:only-of-type {\n",
       "        vertical-align: middle;\n",
       "    }\n",
       "\n",
       "    .dataframe tbody tr th {\n",
       "        vertical-align: top;\n",
       "    }\n",
       "\n",
       "    .dataframe thead th {\n",
       "        text-align: right;\n",
       "    }\n",
       "</style>\n",
       "<table border=\"1\" class=\"dataframe\">\n",
       "  <thead>\n",
       "    <tr style=\"text-align: right;\">\n",
       "      <th></th>\n",
       "      <th>tags</th>\n",
       "      <th>map</th>\n",
       "    </tr>\n",
       "  </thead>\n",
       "  <tbody>\n",
       "    <tr>\n",
       "      <th>0</th>\n",
       "      <td>agriculture</td>\n",
       "      <td>0</td>\n",
       "    </tr>\n",
       "    <tr>\n",
       "      <th>1</th>\n",
       "      <td>artisinal_mine</td>\n",
       "      <td>1</td>\n",
       "    </tr>\n",
       "    <tr>\n",
       "      <th>2</th>\n",
       "      <td>bare_ground</td>\n",
       "      <td>2</td>\n",
       "    </tr>\n",
       "    <tr>\n",
       "      <th>3</th>\n",
       "      <td>blooming</td>\n",
       "      <td>3</td>\n",
       "    </tr>\n",
       "    <tr>\n",
       "      <th>4</th>\n",
       "      <td>blow_down</td>\n",
       "      <td>4</td>\n",
       "    </tr>\n",
       "    <tr>\n",
       "      <th>5</th>\n",
       "      <td>clear</td>\n",
       "      <td>5</td>\n",
       "    </tr>\n",
       "    <tr>\n",
       "      <th>6</th>\n",
       "      <td>cloudy</td>\n",
       "      <td>6</td>\n",
       "    </tr>\n",
       "    <tr>\n",
       "      <th>7</th>\n",
       "      <td>conventional_mine</td>\n",
       "      <td>7</td>\n",
       "    </tr>\n",
       "    <tr>\n",
       "      <th>8</th>\n",
       "      <td>cultivation</td>\n",
       "      <td>8</td>\n",
       "    </tr>\n",
       "    <tr>\n",
       "      <th>9</th>\n",
       "      <td>habitation</td>\n",
       "      <td>9</td>\n",
       "    </tr>\n",
       "    <tr>\n",
       "      <th>10</th>\n",
       "      <td>haze</td>\n",
       "      <td>10</td>\n",
       "    </tr>\n",
       "    <tr>\n",
       "      <th>11</th>\n",
       "      <td>partly_cloudy</td>\n",
       "      <td>11</td>\n",
       "    </tr>\n",
       "    <tr>\n",
       "      <th>12</th>\n",
       "      <td>primary</td>\n",
       "      <td>12</td>\n",
       "    </tr>\n",
       "    <tr>\n",
       "      <th>13</th>\n",
       "      <td>road</td>\n",
       "      <td>13</td>\n",
       "    </tr>\n",
       "    <tr>\n",
       "      <th>14</th>\n",
       "      <td>selective_logging</td>\n",
       "      <td>14</td>\n",
       "    </tr>\n",
       "    <tr>\n",
       "      <th>15</th>\n",
       "      <td>slash_burn</td>\n",
       "      <td>15</td>\n",
       "    </tr>\n",
       "    <tr>\n",
       "      <th>16</th>\n",
       "      <td>water</td>\n",
       "      <td>16</td>\n",
       "    </tr>\n",
       "  </tbody>\n",
       "</table>\n",
       "</div>"
      ],
      "text/plain": [
       "                 tags  map\n",
       "0         agriculture    0\n",
       "1      artisinal_mine    1\n",
       "2         bare_ground    2\n",
       "3            blooming    3\n",
       "4           blow_down    4\n",
       "5               clear    5\n",
       "6              cloudy    6\n",
       "7   conventional_mine    7\n",
       "8         cultivation    8\n",
       "9          habitation    9\n",
       "10               haze   10\n",
       "11      partly_cloudy   11\n",
       "12            primary   12\n",
       "13               road   13\n",
       "14  selective_logging   14\n",
       "15         slash_burn   15\n",
       "16              water   16"
      ]
     },
     "execution_count": 63,
     "metadata": {},
     "output_type": "execute_result"
    }
   ],
   "source": [
    "#onehot=OneHotEncoder()\n",
    "encoder = LabelEncoder()\n",
    "\n",
    "#encoder.fit(train_label['tags'])\n",
    "label_maps = pd.DataFrame()\n",
    "label_maps['tags'] = ['agriculture', 'artisinal_mine', 'bare_ground','blooming','blow_down','clear','cloudy','conventional_mine','cultivation','habitation','haze', 'partly_cloudy','primary','road','selective_logging','slash_burn','water']\n",
    "label_maps['map'] = encoder.fit_transform(label_maps['tags'])\n",
    "label_maps"
   ]
  },
  {
   "cell_type": "code",
   "execution_count": 64,
   "metadata": {
    "execution": {
     "iopub.execute_input": "2023-01-16T18:21:04.576232Z",
     "iopub.status.busy": "2023-01-16T18:21:04.575791Z",
     "iopub.status.idle": "2023-01-16T18:21:04.583130Z",
     "shell.execute_reply": "2023-01-16T18:21:04.581838Z",
     "shell.execute_reply.started": "2023-01-16T18:21:04.576194Z"
    }
   },
   "outputs": [],
   "source": [
    "#defining a dict of encoded labels\n",
    "label_map = {'agriculture': 0,\n",
    " 'artisinal_mine': 1,\n",
    " 'bare_ground': 2,\n",
    " 'blooming': 3,\n",
    " 'blow_down': 4,\n",
    " 'clear': 5,\n",
    " 'cloudy': 6,\n",
    " 'conventional_mine': 7,\n",
    " 'cultivation': 8,\n",
    " 'habitation': 9,\n",
    " 'haze': 10,\n",
    " 'partly_cloudy': 11,\n",
    " 'primary': 12,\n",
    " 'road': 13,\n",
    " 'selective_logging': 14,\n",
    " 'slash_burn': 15,\n",
    " 'water': 16}\n"
   ]
  },
  {
   "cell_type": "code",
   "execution_count": 65,
   "metadata": {
    "execution": {
     "iopub.execute_input": "2023-01-16T18:21:04.658914Z",
     "iopub.status.busy": "2023-01-16T18:21:04.658502Z",
     "iopub.status.idle": "2023-01-16T18:21:04.672025Z",
     "shell.execute_reply": "2023-01-16T18:21:04.670558Z",
     "shell.execute_reply.started": "2023-01-16T18:21:04.658880Z"
    }
   },
   "outputs": [],
   "source": [
    "#loading the traing_images\n",
    "X = []\n",
    "Y = []\n",
    "train_data = shuffle(train_data,random_state=0)"
   ]
  },
  {
   "cell_type": "code",
   "execution_count": 66,
   "metadata": {
    "execution": {
     "iopub.execute_input": "2023-01-16T18:21:04.754668Z",
     "iopub.status.busy": "2023-01-16T18:21:04.753414Z",
     "iopub.status.idle": "2023-01-16T18:22:58.842754Z",
     "shell.execute_reply": "2023-01-16T18:22:58.841707Z",
     "shell.execute_reply.started": "2023-01-16T18:21:04.754611Z"
    }
   },
   "outputs": [
    {
     "name": "stderr",
     "output_type": "stream",
     "text": [
      "100%|██████████| 40479/40479 [01:54<00:00, 354.84it/s]\n"
     ]
    }
   ],
   "source": [
    "for image_name, tags in tqdm(train_data.values, miniters=400):\n",
    "    arr = cv2.imread('/kaggle/input/planets-dataset/planet/planet/train-jpg/{}.jpg'.format(image_name), cv2.IMREAD_UNCHANGED)\n",
    "    targets = np.zeros(17)\n",
    "    for t in tags.split(' '):\n",
    "      targets[label_map[t]] = 1 \n",
    "    arr = cv2.resize(arr, (64, 64))\n",
    "    X.append(arr)\n",
    "    Y.append(targets)"
   ]
  },
  {
   "cell_type": "markdown",
   "metadata": {},
   "source": [
    "# Data Splitting"
   ]
  },
  {
   "cell_type": "code",
   "execution_count": 67,
   "metadata": {
    "execution": {
     "iopub.execute_input": "2023-01-16T18:22:58.845628Z",
     "iopub.status.busy": "2023-01-16T18:22:58.844888Z",
     "iopub.status.idle": "2023-01-16T18:23:09.764999Z",
     "shell.execute_reply": "2023-01-16T18:23:09.763904Z",
     "shell.execute_reply.started": "2023-01-16T18:22:58.845589Z"
    }
   },
   "outputs": [],
   "source": [
    "X = np.array(X, np.float16)/255.0"
   ]
  },
  {
   "cell_type": "code",
   "execution_count": 68,
   "metadata": {
    "execution": {
     "iopub.execute_input": "2023-01-16T18:23:09.773456Z",
     "iopub.status.busy": "2023-01-16T18:23:09.772629Z",
     "iopub.status.idle": "2023-01-16T18:23:11.842183Z",
     "shell.execute_reply": "2023-01-16T18:23:11.840038Z",
     "shell.execute_reply.started": "2023-01-16T18:23:09.773417Z"
    }
   },
   "outputs": [
    {
     "name": "stdout",
     "output_type": "stream",
     "text": [
      "(32383, 64, 64, 3) (32383, 17) (8096, 64, 64, 3) (8096, 17)\n"
     ]
    }
   ],
   "source": [
    "#splitting\n",
    "X = np.array(X)\n",
    "Y = np.array(Y)\n",
    "x_train, x_val, y_train, y_val = train_test_split(X, Y, test_size = 0.2, shuffle = True, random_state = 1)\n",
    "\n",
    "print(x_train.shape, y_train.shape, x_val.shape, y_val.shape)"
   ]
  },
  {
   "cell_type": "code",
   "execution_count": 69,
   "metadata": {
    "execution": {
     "iopub.execute_input": "2023-01-16T18:23:11.845487Z",
     "iopub.status.busy": "2023-01-16T18:23:11.845023Z",
     "iopub.status.idle": "2023-01-16T18:23:12.094095Z",
     "shell.execute_reply": "2023-01-16T18:23:12.092532Z",
     "shell.execute_reply.started": "2023-01-16T18:23:11.845432Z"
    }
   },
   "outputs": [
    {
     "data": {
      "text/plain": [
       "324"
      ]
     },
     "execution_count": 69,
     "metadata": {},
     "output_type": "execute_result"
    }
   ],
   "source": [
    "del X, Y\n",
    "gc.collect()"
   ]
  },
  {
   "cell_type": "code",
   "execution_count": 70,
   "metadata": {
    "execution": {
     "iopub.execute_input": "2023-01-16T18:23:12.096515Z",
     "iopub.status.busy": "2023-01-16T18:23:12.096027Z",
     "iopub.status.idle": "2023-01-16T18:23:12.311250Z",
     "shell.execute_reply": "2023-01-16T18:23:12.309834Z",
     "shell.execute_reply.started": "2023-01-16T18:23:12.096453Z"
    }
   },
   "outputs": [
    {
     "data": {
      "text/plain": [
       "23"
      ]
     },
     "execution_count": 70,
     "metadata": {},
     "output_type": "execute_result"
    }
   ],
   "source": [
    "gc.collect()"
   ]
  },
  {
   "cell_type": "code",
   "execution_count": 71,
   "metadata": {
    "execution": {
     "iopub.execute_input": "2023-01-16T18:23:12.314073Z",
     "iopub.status.busy": "2023-01-16T18:23:12.313388Z",
     "iopub.status.idle": "2023-01-16T18:23:12.325749Z",
     "shell.execute_reply": "2023-01-16T18:23:12.324201Z",
     "shell.execute_reply.started": "2023-01-16T18:23:12.314024Z"
    }
   },
   "outputs": [],
   "source": [
    "def fbeta(y_true, y_pred, threshold_shift=0):\n",
    "    beta = 2\n",
    "\n",
    "    # just in case of hipster activation at the final layer\n",
    "    y_pred = K.clip(y_pred, 0, 1)\n",
    "\n",
    "    # shifting the prediction threshold from .5 if needed\n",
    "    y_pred_bin = K.round(y_pred + threshold_shift)\n",
    "\n",
    "    tp = K.sum(K.round(y_true * y_pred_bin)) + K.epsilon()\n",
    "    fp = K.sum(K.round(K.clip(y_pred_bin - y_true, 0, 1)))\n",
    "    fn = K.sum(K.round(K.clip(y_true - y_pred, 0, 1)))\n",
    "\n",
    "    precision = tp / (tp + fp)\n",
    "    recall = tp / (tp + fn)\n",
    "\n",
    "    beta_squared = beta ** 2\n",
    "    return (beta_squared + 1) * (precision * recall) / (beta_squared * precision + recall + K.epsilon())"
   ]
  },
  {
   "cell_type": "code",
   "execution_count": 72,
   "metadata": {
    "execution": {
     "iopub.execute_input": "2023-01-16T18:23:12.328422Z",
     "iopub.status.busy": "2023-01-16T18:23:12.327902Z",
     "iopub.status.idle": "2023-01-16T18:47:14.746186Z",
     "shell.execute_reply": "2023-01-16T18:47:14.744764Z",
     "shell.execute_reply.started": "2023-01-16T18:23:12.328378Z"
    }
   },
   "outputs": [
    {
     "name": "stdout",
     "output_type": "stream",
     "text": [
      "Epoch 1/45\n",
      "506/506 [==============================] - 33s 63ms/step - loss: 0.2281 - fbeta: 0.6334 - val_loss: 0.2098 - val_fbeta: 0.6965\n",
      "Epoch 2/45\n",
      "506/506 [==============================] - 32s 62ms/step - loss: 0.2002 - fbeta: 0.6815 - val_loss: 0.1944 - val_fbeta: 0.6851\n",
      "Epoch 3/45\n",
      "506/506 [==============================] - 32s 63ms/step - loss: 0.1885 - fbeta: 0.7031 - val_loss: 0.1847 - val_fbeta: 0.7327\n",
      "Epoch 4/45\n",
      "506/506 [==============================] - 31s 61ms/step - loss: 0.1778 - fbeta: 0.7237 - val_loss: 0.1814 - val_fbeta: 0.7087\n",
      "Epoch 5/45\n",
      "506/506 [==============================] - 31s 61ms/step - loss: 0.1693 - fbeta: 0.7397 - val_loss: 0.1676 - val_fbeta: 0.7311\n",
      "Epoch 6/45\n",
      "506/506 [==============================] - 31s 61ms/step - loss: 0.1640 - fbeta: 0.7479 - val_loss: 0.1578 - val_fbeta: 0.7561\n",
      "Epoch 7/45\n",
      "506/506 [==============================] - 31s 61ms/step - loss: 0.1588 - fbeta: 0.7552 - val_loss: 0.1536 - val_fbeta: 0.7634\n",
      "Epoch 8/45\n",
      "506/506 [==============================] - 32s 63ms/step - loss: 0.1543 - fbeta: 0.7618 - val_loss: 0.1502 - val_fbeta: 0.7651\n",
      "Epoch 9/45\n",
      "506/506 [==============================] - 32s 63ms/step - loss: 0.1509 - fbeta: 0.7673 - val_loss: 0.1488 - val_fbeta: 0.7662\n",
      "Epoch 10/45\n",
      "506/506 [==============================] - 32s 63ms/step - loss: 0.1478 - fbeta: 0.7724 - val_loss: 0.1450 - val_fbeta: 0.7745\n",
      "Epoch 11/45\n",
      "506/506 [==============================] - 32s 63ms/step - loss: 0.1454 - fbeta: 0.7778 - val_loss: 0.1449 - val_fbeta: 0.7951\n",
      "Epoch 12/45\n",
      "506/506 [==============================] - 31s 61ms/step - loss: 0.1430 - fbeta: 0.7806 - val_loss: 0.1424 - val_fbeta: 0.7675\n",
      "Epoch 13/45\n",
      "506/506 [==============================] - 32s 64ms/step - loss: 0.1419 - fbeta: 0.7830 - val_loss: 0.1467 - val_fbeta: 0.7899\n",
      "Epoch 14/45\n",
      "506/506 [==============================] - 32s 63ms/step - loss: 0.1401 - fbeta: 0.7866 - val_loss: 0.1454 - val_fbeta: 0.7688\n",
      "Epoch 15/45\n",
      "506/506 [==============================] - 32s 63ms/step - loss: 0.1371 - fbeta: 0.7915 - val_loss: 0.1384 - val_fbeta: 0.7821\n",
      "Epoch 16/45\n",
      "506/506 [==============================] - 34s 66ms/step - loss: 0.1356 - fbeta: 0.7950 - val_loss: 0.1372 - val_fbeta: 0.7987\n",
      "Epoch 17/45\n",
      "506/506 [==============================] - 31s 62ms/step - loss: 0.1341 - fbeta: 0.7972 - val_loss: 0.1392 - val_fbeta: 0.7817\n",
      "Epoch 18/45\n",
      "506/506 [==============================] - 32s 64ms/step - loss: 0.1325 - fbeta: 0.8000 - val_loss: 0.1371 - val_fbeta: 0.8027\n",
      "Epoch 19/45\n",
      "506/506 [==============================] - 32s 63ms/step - loss: 0.1310 - fbeta: 0.8032 - val_loss: 0.1360 - val_fbeta: 0.7949\n",
      "Epoch 20/45\n",
      "506/506 [==============================] - 31s 62ms/step - loss: 0.1296 - fbeta: 0.8059 - val_loss: 0.1372 - val_fbeta: 0.7905\n",
      "Epoch 21/45\n",
      "506/506 [==============================] - 31s 62ms/step - loss: 0.1269 - fbeta: 0.8098 - val_loss: 0.1390 - val_fbeta: 0.7997\n",
      "Epoch 22/45\n",
      "506/506 [==============================] - 32s 63ms/step - loss: 0.1259 - fbeta: 0.8121 - val_loss: 0.1360 - val_fbeta: 0.7998\n",
      "Epoch 23/45\n",
      "506/506 [==============================] - 33s 65ms/step - loss: 0.1241 - fbeta: 0.8145 - val_loss: 0.1376 - val_fbeta: 0.7890\n",
      "Epoch 24/45\n",
      "506/506 [==============================] - 33s 66ms/step - loss: 0.1225 - fbeta: 0.8174 - val_loss: 0.1377 - val_fbeta: 0.8038\n",
      "Epoch 25/45\n",
      "506/506 [==============================] - 33s 66ms/step - loss: 0.1214 - fbeta: 0.8198 - val_loss: 0.1339 - val_fbeta: 0.8024\n",
      "Epoch 26/45\n",
      "506/506 [==============================] - 32s 64ms/step - loss: 0.1190 - fbeta: 0.8241 - val_loss: 0.1370 - val_fbeta: 0.8050\n",
      "Epoch 27/45\n",
      "506/506 [==============================] - 32s 64ms/step - loss: 0.1178 - fbeta: 0.8260 - val_loss: 0.1355 - val_fbeta: 0.8019\n",
      "Epoch 28/45\n",
      "506/506 [==============================] - 33s 66ms/step - loss: 0.1156 - fbeta: 0.8304 - val_loss: 0.1360 - val_fbeta: 0.7949\n",
      "Epoch 29/45\n",
      "506/506 [==============================] - 33s 65ms/step - loss: 0.1136 - fbeta: 0.8331 - val_loss: 0.1360 - val_fbeta: 0.8071\n",
      "Epoch 30/45\n",
      "506/506 [==============================] - 32s 63ms/step - loss: 0.1124 - fbeta: 0.8353 - val_loss: 0.1423 - val_fbeta: 0.8122\n",
      "Epoch 31/45\n",
      "506/506 [==============================] - 32s 64ms/step - loss: 0.1108 - fbeta: 0.8378 - val_loss: 0.1376 - val_fbeta: 0.8112\n",
      "Epoch 32/45\n",
      "506/506 [==============================] - 32s 63ms/step - loss: 0.1087 - fbeta: 0.8414 - val_loss: 0.1381 - val_fbeta: 0.8157\n",
      "Epoch 33/45\n",
      "506/506 [==============================] - 31s 62ms/step - loss: 0.1080 - fbeta: 0.8435 - val_loss: 0.1398 - val_fbeta: 0.8134\n",
      "Epoch 34/45\n",
      "506/506 [==============================] - 32s 62ms/step - loss: 0.1051 - fbeta: 0.8475 - val_loss: 0.1432 - val_fbeta: 0.8065\n",
      "Epoch 35/45\n",
      "506/506 [==============================] - 31s 62ms/step - loss: 0.1039 - fbeta: 0.8497 - val_loss: 0.1423 - val_fbeta: 0.8053\n",
      "Epoch 36/45\n",
      "506/506 [==============================] - 32s 63ms/step - loss: 0.1028 - fbeta: 0.8516 - val_loss: 0.1479 - val_fbeta: 0.7917\n",
      "Epoch 37/45\n",
      "506/506 [==============================] - 32s 64ms/step - loss: 0.0999 - fbeta: 0.8555 - val_loss: 0.1460 - val_fbeta: 0.8059\n",
      "Epoch 38/45\n",
      "506/506 [==============================] - 33s 66ms/step - loss: 0.0987 - fbeta: 0.8580 - val_loss: 0.1490 - val_fbeta: 0.8066\n",
      "Epoch 39/45\n",
      "506/506 [==============================] - 32s 64ms/step - loss: 0.0961 - fbeta: 0.8620 - val_loss: 0.1465 - val_fbeta: 0.8097\n",
      "Epoch 40/45\n",
      "506/506 [==============================] - 32s 63ms/step - loss: 0.0950 - fbeta: 0.8644 - val_loss: 0.1492 - val_fbeta: 0.8038\n",
      "Epoch 41/45\n",
      "506/506 [==============================] - 33s 64ms/step - loss: 0.0925 - fbeta: 0.8682 - val_loss: 0.1508 - val_fbeta: 0.8107\n",
      "Epoch 42/45\n",
      "506/506 [==============================] - 33s 64ms/step - loss: 0.0910 - fbeta: 0.8711 - val_loss: 0.1574 - val_fbeta: 0.8125\n",
      "Epoch 43/45\n",
      "506/506 [==============================] - 31s 62ms/step - loss: 0.0894 - fbeta: 0.8733 - val_loss: 0.1567 - val_fbeta: 0.8080\n",
      "Epoch 44/45\n",
      "506/506 [==============================] - 32s 62ms/step - loss: 0.0880 - fbeta: 0.8752 - val_loss: 0.1601 - val_fbeta: 0.8167\n",
      "Epoch 45/45\n",
      "506/506 [==============================] - 31s 62ms/step - loss: 0.0853 - fbeta: 0.8803 - val_loss: 0.1653 - val_fbeta: 0.8124\n"
     ]
    },
    {
     "data": {
      "text/plain": [
       "<keras.callbacks.History at 0x7f1819cafc90>"
      ]
     },
     "execution_count": 72,
     "metadata": {},
     "output_type": "execute_result"
    }
   ],
   "source": [
    "from tensorflow.keras.optimizers import Adam\n",
    "\n",
    "model = keras.Sequential()\n",
    "model.add(Conv2D(64, 5, 2, activation = \"relu\", input_shape = (64, 64, 3)))\n",
    "model.add(MaxPooling2D())\n",
    "model.add(Conv2D(128, 5, 2, activation = \"relu\"))\n",
    "model.add(MaxPooling2D())\n",
    "model.add(Flatten())\n",
    "model.add(Dense(512, activation = \"relu\"))\n",
    "model.add(Dense(17, activation = \"sigmoid\"))\n",
    "model.compile(loss = \"binary_crossentropy\", optimizer = Adam(), metrics = [fbeta])\n",
    "model.fit(x_train, y_train, validation_data = (x_val, y_val), epochs = 45, batch_size = 64)"
   ]
  },
  {
   "cell_type": "code",
   "execution_count": 73,
   "metadata": {
    "execution": {
     "iopub.execute_input": "2023-01-16T18:47:14.748142Z",
     "iopub.status.busy": "2023-01-16T18:47:14.747754Z",
     "iopub.status.idle": "2023-01-16T18:47:14.973228Z",
     "shell.execute_reply": "2023-01-16T18:47:14.972301Z",
     "shell.execute_reply.started": "2023-01-16T18:47:14.748106Z"
    }
   },
   "outputs": [
    {
     "data": {
      "text/plain": [
       "1648"
      ]
     },
     "execution_count": 73,
     "metadata": {},
     "output_type": "execute_result"
    }
   ],
   "source": [
    "gc.collect()"
   ]
  },
  {
   "cell_type": "code",
   "execution_count": 74,
   "metadata": {
    "execution": {
     "iopub.execute_input": "2023-01-16T18:47:14.975285Z",
     "iopub.status.busy": "2023-01-16T18:47:14.974717Z",
     "iopub.status.idle": "2023-01-16T18:47:18.738178Z",
     "shell.execute_reply": "2023-01-16T18:47:18.736795Z",
     "shell.execute_reply.started": "2023-01-16T18:47:14.975251Z"
    }
   },
   "outputs": [
    {
     "name": "stdout",
     "output_type": "stream",
     "text": [
      "253/253 [==============================] - 3s 12ms/step - loss: 0.1653 - fbeta: 0.8128\n",
      "Test loss: 0.1652628481388092\n",
      "Test accuracy: 0.8128177523612976\n"
     ]
    }
   ],
   "source": [
    "#with tpu_strategy.scope():\n",
    "test_loss, test_accuracy = model.evaluate(x_val, y_val)\n",
    "print('Test loss: {}'.format(test_loss))\n",
    "print('Test accuracy: {}'.format(test_accuracy))"
   ]
  },
  {
   "cell_type": "code",
   "execution_count": 75,
   "metadata": {
    "execution": {
     "iopub.execute_input": "2023-01-16T18:47:18.744326Z",
     "iopub.status.busy": "2023-01-16T18:47:18.743934Z",
     "iopub.status.idle": "2023-01-16T18:47:18.965338Z",
     "shell.execute_reply": "2023-01-16T18:47:18.964043Z",
     "shell.execute_reply.started": "2023-01-16T18:47:18.744293Z"
    }
   },
   "outputs": [
    {
     "data": {
      "text/plain": [
       "790"
      ]
     },
     "execution_count": 75,
     "metadata": {},
     "output_type": "execute_result"
    }
   ],
   "source": [
    "gc.collect()"
   ]
  },
  {
   "cell_type": "code",
   "execution_count": 76,
   "metadata": {
    "execution": {
     "iopub.execute_input": "2023-01-16T18:47:18.968236Z",
     "iopub.status.busy": "2023-01-16T18:47:18.967865Z",
     "iopub.status.idle": "2023-01-16T18:47:38.526289Z",
     "shell.execute_reply": "2023-01-16T18:47:38.525017Z",
     "shell.execute_reply.started": "2023-01-16T18:47:18.968203Z"
    }
   },
   "outputs": [
    {
     "name": "stdout",
     "output_type": "stream",
     "text": [
      "253/253 [==============================] - 3s 12ms/step - loss: 0.1653 - fbeta: 0.8128\n",
      "train fscore:  0.8811771588086034\n",
      "val fscore:  0.8042378359147878\n"
     ]
    }
   ],
   "source": [
    "# Evaluate the model on the validation set\n",
    "model.evaluate(x_val, y_val)\n",
    "\n",
    "# Calculate the f-beta score for the training set\n",
    "train_fscore = fbeta_score(y_train, np.round(model.predict(x_train)), beta=2,average = 'weighted')\n",
    "print(\"train fscore: \", train_fscore)\n",
    "\n",
    "# Calculate the f-beta score for the validation set\n",
    "val_fscore = fbeta_score(y_val, np.round(model.predict(x_val)), beta=2, average = 'weighted')\n",
    "print(\"val fscore: \", val_fscore)"
   ]
  },
  {
   "cell_type": "code",
   "execution_count": 77,
   "metadata": {
    "execution": {
     "iopub.execute_input": "2023-01-16T18:47:38.528708Z",
     "iopub.status.busy": "2023-01-16T18:47:38.528299Z",
     "iopub.status.idle": "2023-01-16T18:47:38.756873Z",
     "shell.execute_reply": "2023-01-16T18:47:38.755162Z",
     "shell.execute_reply.started": "2023-01-16T18:47:38.528672Z"
    }
   },
   "outputs": [
    {
     "data": {
      "text/plain": [
       "742"
      ]
     },
     "execution_count": 77,
     "metadata": {},
     "output_type": "execute_result"
    }
   ],
   "source": [
    "del x_train, y_train, x_val, y_val\n",
    "gc.collect()"
   ]
  },
  {
   "cell_type": "code",
   "execution_count": 78,
   "metadata": {
    "execution": {
     "iopub.execute_input": "2023-01-16T18:47:38.760538Z",
     "iopub.status.busy": "2023-01-16T18:47:38.759281Z",
     "iopub.status.idle": "2023-01-16T18:47:38.770095Z",
     "shell.execute_reply": "2023-01-16T18:47:38.767999Z",
     "shell.execute_reply.started": "2023-01-16T18:47:38.760446Z"
    }
   },
   "outputs": [],
   "source": [
    "#dividing my test_labels into two part for test-jpg and test-jpg-additional\n",
    "test = sample_submission[0 : 40669]\n",
    "files = sample_submission[40669 : ]"
   ]
  },
  {
   "cell_type": "code",
   "execution_count": 79,
   "metadata": {
    "execution": {
     "iopub.execute_input": "2023-01-16T18:47:38.772895Z",
     "iopub.status.busy": "2023-01-16T18:47:38.772315Z",
     "iopub.status.idle": "2023-01-16T18:50:39.529807Z",
     "shell.execute_reply": "2023-01-16T18:50:39.528318Z",
     "shell.execute_reply.started": "2023-01-16T18:47:38.772846Z"
    }
   },
   "outputs": [
    {
     "name": "stderr",
     "output_type": "stream",
     "text": [
      "100%|██████████| 40669/40669 [01:45<00:00, 385.71it/s]\n",
      "100%|██████████| 20522/20522 [00:58<00:00, 351.93it/s]\n"
     ]
    }
   ],
   "source": [
    "#with tpu_strategy.scope():   \n",
    "test_img = []\n",
    "\n",
    "for image_name, tags in tqdm(test.values, miniters=1000):\n",
    "    arr = cv2.imread('/kaggle/input/planets-dataset/planet/planet/test-jpg/{}.jpg'.format(image_name))\n",
    "    test_img.append(cv2.resize(arr, (64, 64)))\n",
    "\n",
    "for image_name, tags in tqdm(files.values, miniters=1000):\n",
    "    arr = cv2.imread('/kaggle/input/planets-dataset/test-jpg-additional/test-jpg-additional/{}.jpg'.format(image_name))\n",
    "    test_img.append(cv2.resize(arr, (64, 64)))\n",
    "\n",
    "test_img = np.array(test_img, np.float16)/255.0"
   ]
  },
  {
   "cell_type": "code",
   "execution_count": 80,
   "metadata": {
    "execution": {
     "iopub.execute_input": "2023-01-16T18:50:39.533125Z",
     "iopub.status.busy": "2023-01-16T18:50:39.532692Z",
     "iopub.status.idle": "2023-01-16T18:50:39.779009Z",
     "shell.execute_reply": "2023-01-16T18:50:39.777496Z",
     "shell.execute_reply.started": "2023-01-16T18:50:39.533089Z"
    }
   },
   "outputs": [
    {
     "data": {
      "text/plain": [
       "69"
      ]
     },
     "execution_count": 80,
     "metadata": {},
     "output_type": "execute_result"
    }
   ],
   "source": [
    "gc.collect()"
   ]
  },
  {
   "cell_type": "code",
   "execution_count": 81,
   "metadata": {
    "execution": {
     "iopub.execute_input": "2023-01-16T18:50:39.781027Z",
     "iopub.status.busy": "2023-01-16T18:50:39.780681Z",
     "iopub.status.idle": "2023-01-16T18:51:06.964225Z",
     "shell.execute_reply": "2023-01-16T18:51:06.962593Z",
     "shell.execute_reply.started": "2023-01-16T18:50:39.780996Z"
    }
   },
   "outputs": [
    {
     "name": "stdout",
     "output_type": "stream",
     "text": [
      "957/957 - 16s\n"
     ]
    }
   ],
   "source": [
    "#with tpu_strategy.scope():\n",
    "strg = []\n",
    "predictions = model.predict(test_img, batch_size = 64, verbose = 2)\n",
    "strg.append(predictions)"
   ]
  },
  {
   "cell_type": "code",
   "execution_count": 82,
   "metadata": {
    "execution": {
     "iopub.execute_input": "2023-01-16T18:51:06.966222Z",
     "iopub.status.busy": "2023-01-16T18:51:06.965841Z",
     "iopub.status.idle": "2023-01-16T18:51:07.207037Z",
     "shell.execute_reply": "2023-01-16T18:51:07.205152Z",
     "shell.execute_reply.started": "2023-01-16T18:51:06.966187Z"
    }
   },
   "outputs": [
    {
     "data": {
      "text/plain": [
       "790"
      ]
     },
     "execution_count": 82,
     "metadata": {},
     "output_type": "execute_result"
    }
   ],
   "source": [
    "gc.collect()"
   ]
  },
  {
   "cell_type": "code",
   "execution_count": 83,
   "metadata": {
    "execution": {
     "iopub.execute_input": "2023-01-16T18:51:07.209070Z",
     "iopub.status.busy": "2023-01-16T18:51:07.208626Z",
     "iopub.status.idle": "2023-01-16T18:51:07.220217Z",
     "shell.execute_reply": "2023-01-16T18:51:07.218143Z",
     "shell.execute_reply.started": "2023-01-16T18:51:07.209036Z"
    }
   },
   "outputs": [],
   "source": [
    "#converting my encoded labels back to it original form\n",
    "df = np.array(strg[0])\n",
    "for i in range (1, len(strg)):\n",
    "    df += np.array(strg[i])\n",
    "df = pd.DataFrame(df, columns = label_map)"
   ]
  },
  {
   "cell_type": "code",
   "execution_count": 84,
   "metadata": {
    "execution": {
     "iopub.execute_input": "2023-01-16T18:51:07.222519Z",
     "iopub.status.busy": "2023-01-16T18:51:07.221880Z",
     "iopub.status.idle": "2023-01-16T18:51:07.261298Z",
     "shell.execute_reply": "2023-01-16T18:51:07.259778Z",
     "shell.execute_reply.started": "2023-01-16T18:51:07.222405Z"
    }
   },
   "outputs": [
    {
     "data": {
      "text/html": [
       "<div>\n",
       "<style scoped>\n",
       "    .dataframe tbody tr th:only-of-type {\n",
       "        vertical-align: middle;\n",
       "    }\n",
       "\n",
       "    .dataframe tbody tr th {\n",
       "        vertical-align: top;\n",
       "    }\n",
       "\n",
       "    .dataframe thead th {\n",
       "        text-align: right;\n",
       "    }\n",
       "</style>\n",
       "<table border=\"1\" class=\"dataframe\">\n",
       "  <thead>\n",
       "    <tr style=\"text-align: right;\">\n",
       "      <th></th>\n",
       "      <th>agriculture</th>\n",
       "      <th>artisinal_mine</th>\n",
       "      <th>bare_ground</th>\n",
       "      <th>blooming</th>\n",
       "      <th>blow_down</th>\n",
       "      <th>clear</th>\n",
       "      <th>cloudy</th>\n",
       "      <th>conventional_mine</th>\n",
       "      <th>cultivation</th>\n",
       "      <th>habitation</th>\n",
       "      <th>haze</th>\n",
       "      <th>partly_cloudy</th>\n",
       "      <th>primary</th>\n",
       "      <th>road</th>\n",
       "      <th>selective_logging</th>\n",
       "      <th>slash_burn</th>\n",
       "      <th>water</th>\n",
       "    </tr>\n",
       "  </thead>\n",
       "  <tbody>\n",
       "    <tr>\n",
       "      <th>0</th>\n",
       "      <td>0.003660</td>\n",
       "      <td>2.238588e-11</td>\n",
       "      <td>1.562238e-04</td>\n",
       "      <td>1.974943e-02</td>\n",
       "      <td>5.635653e-05</td>\n",
       "      <td>9.999381e-01</td>\n",
       "      <td>3.846910e-07</td>\n",
       "      <td>2.436653e-14</td>\n",
       "      <td>1.927346e-03</td>\n",
       "      <td>2.158016e-03</td>\n",
       "      <td>4.184544e-04</td>\n",
       "      <td>1.238821e-06</td>\n",
       "      <td>0.999998</td>\n",
       "      <td>0.006109</td>\n",
       "      <td>4.402757e-03</td>\n",
       "      <td>5.156556e-10</td>\n",
       "      <td>0.004909</td>\n",
       "    </tr>\n",
       "    <tr>\n",
       "      <th>1</th>\n",
       "      <td>0.080094</td>\n",
       "      <td>7.525460e-14</td>\n",
       "      <td>1.423597e-03</td>\n",
       "      <td>6.177402e-02</td>\n",
       "      <td>4.090965e-04</td>\n",
       "      <td>9.995233e-01</td>\n",
       "      <td>6.847761e-11</td>\n",
       "      <td>2.738957e-13</td>\n",
       "      <td>4.028440e-02</td>\n",
       "      <td>3.026277e-03</td>\n",
       "      <td>3.544687e-05</td>\n",
       "      <td>9.802645e-05</td>\n",
       "      <td>1.000000</td>\n",
       "      <td>0.136897</td>\n",
       "      <td>1.608261e-01</td>\n",
       "      <td>8.078378e-08</td>\n",
       "      <td>0.035733</td>\n",
       "    </tr>\n",
       "    <tr>\n",
       "      <th>2</th>\n",
       "      <td>0.000444</td>\n",
       "      <td>1.415443e-15</td>\n",
       "      <td>3.288607e-11</td>\n",
       "      <td>1.851315e-08</td>\n",
       "      <td>1.253346e-07</td>\n",
       "      <td>9.113579e-13</td>\n",
       "      <td>1.337442e-10</td>\n",
       "      <td>5.962431e-12</td>\n",
       "      <td>2.215331e-07</td>\n",
       "      <td>5.950621e-10</td>\n",
       "      <td>3.686133e-09</td>\n",
       "      <td>1.000000e+00</td>\n",
       "      <td>1.000000</td>\n",
       "      <td>0.000323</td>\n",
       "      <td>1.575155e-11</td>\n",
       "      <td>5.134713e-16</td>\n",
       "      <td>0.000717</td>\n",
       "    </tr>\n",
       "    <tr>\n",
       "      <th>3</th>\n",
       "      <td>0.074279</td>\n",
       "      <td>3.544771e-09</td>\n",
       "      <td>7.995665e-04</td>\n",
       "      <td>1.558542e-02</td>\n",
       "      <td>2.176553e-03</td>\n",
       "      <td>6.694387e-01</td>\n",
       "      <td>3.155474e-09</td>\n",
       "      <td>3.250883e-11</td>\n",
       "      <td>5.763552e-02</td>\n",
       "      <td>6.522298e-03</td>\n",
       "      <td>2.414882e-04</td>\n",
       "      <td>5.573432e-01</td>\n",
       "      <td>1.000000</td>\n",
       "      <td>0.022636</td>\n",
       "      <td>8.185118e-03</td>\n",
       "      <td>3.373260e-07</td>\n",
       "      <td>0.010418</td>\n",
       "    </tr>\n",
       "    <tr>\n",
       "      <th>4</th>\n",
       "      <td>0.000103</td>\n",
       "      <td>1.112891e-21</td>\n",
       "      <td>1.044754e-06</td>\n",
       "      <td>1.182667e-11</td>\n",
       "      <td>1.349791e-11</td>\n",
       "      <td>5.767477e-09</td>\n",
       "      <td>3.015366e-08</td>\n",
       "      <td>1.221500e-18</td>\n",
       "      <td>2.108065e-06</td>\n",
       "      <td>6.426093e-06</td>\n",
       "      <td>1.928415e-05</td>\n",
       "      <td>9.999957e-01</td>\n",
       "      <td>1.000000</td>\n",
       "      <td>0.000051</td>\n",
       "      <td>5.381574e-20</td>\n",
       "      <td>1.666527e-16</td>\n",
       "      <td>0.000338</td>\n",
       "    </tr>\n",
       "    <tr>\n",
       "      <th>...</th>\n",
       "      <td>...</td>\n",
       "      <td>...</td>\n",
       "      <td>...</td>\n",
       "      <td>...</td>\n",
       "      <td>...</td>\n",
       "      <td>...</td>\n",
       "      <td>...</td>\n",
       "      <td>...</td>\n",
       "      <td>...</td>\n",
       "      <td>...</td>\n",
       "      <td>...</td>\n",
       "      <td>...</td>\n",
       "      <td>...</td>\n",
       "      <td>...</td>\n",
       "      <td>...</td>\n",
       "      <td>...</td>\n",
       "      <td>...</td>\n",
       "    </tr>\n",
       "    <tr>\n",
       "      <th>61186</th>\n",
       "      <td>0.000067</td>\n",
       "      <td>1.788079e-16</td>\n",
       "      <td>1.914406e-07</td>\n",
       "      <td>1.338591e-17</td>\n",
       "      <td>4.794042e-25</td>\n",
       "      <td>6.738871e-03</td>\n",
       "      <td>9.574043e-01</td>\n",
       "      <td>2.718160e-13</td>\n",
       "      <td>3.793274e-05</td>\n",
       "      <td>2.140000e-01</td>\n",
       "      <td>3.590584e-04</td>\n",
       "      <td>1.772940e-04</td>\n",
       "      <td>0.019262</td>\n",
       "      <td>0.168351</td>\n",
       "      <td>2.943224e-12</td>\n",
       "      <td>1.134209e-13</td>\n",
       "      <td>0.007027</td>\n",
       "    </tr>\n",
       "    <tr>\n",
       "      <th>61187</th>\n",
       "      <td>0.137673</td>\n",
       "      <td>4.875626e-06</td>\n",
       "      <td>3.762454e-03</td>\n",
       "      <td>1.952928e-09</td>\n",
       "      <td>2.133894e-18</td>\n",
       "      <td>9.999945e-01</td>\n",
       "      <td>2.502862e-11</td>\n",
       "      <td>4.405455e-07</td>\n",
       "      <td>2.901256e-04</td>\n",
       "      <td>2.660155e-04</td>\n",
       "      <td>1.519570e-06</td>\n",
       "      <td>2.851652e-09</td>\n",
       "      <td>0.983604</td>\n",
       "      <td>0.002865</td>\n",
       "      <td>2.089549e-11</td>\n",
       "      <td>8.694821e-07</td>\n",
       "      <td>0.837821</td>\n",
       "    </tr>\n",
       "    <tr>\n",
       "      <th>61188</th>\n",
       "      <td>0.021262</td>\n",
       "      <td>2.968746e-13</td>\n",
       "      <td>3.180590e-05</td>\n",
       "      <td>1.495737e-02</td>\n",
       "      <td>3.659725e-04</td>\n",
       "      <td>9.995973e-01</td>\n",
       "      <td>4.627479e-09</td>\n",
       "      <td>1.865615e-14</td>\n",
       "      <td>1.772836e-02</td>\n",
       "      <td>4.792362e-03</td>\n",
       "      <td>4.566533e-05</td>\n",
       "      <td>8.198278e-05</td>\n",
       "      <td>1.000000</td>\n",
       "      <td>0.014870</td>\n",
       "      <td>5.827755e-03</td>\n",
       "      <td>2.282982e-09</td>\n",
       "      <td>0.010748</td>\n",
       "    </tr>\n",
       "    <tr>\n",
       "      <th>61189</th>\n",
       "      <td>0.042246</td>\n",
       "      <td>2.630130e-15</td>\n",
       "      <td>6.501871e-10</td>\n",
       "      <td>1.265242e-12</td>\n",
       "      <td>1.438611e-15</td>\n",
       "      <td>3.104836e-03</td>\n",
       "      <td>8.640648e-01</td>\n",
       "      <td>1.817077e-15</td>\n",
       "      <td>4.125118e-03</td>\n",
       "      <td>1.322925e-04</td>\n",
       "      <td>1.882710e-01</td>\n",
       "      <td>7.739484e-06</td>\n",
       "      <td>0.139216</td>\n",
       "      <td>0.009465</td>\n",
       "      <td>2.259482e-08</td>\n",
       "      <td>2.681127e-14</td>\n",
       "      <td>0.018086</td>\n",
       "    </tr>\n",
       "    <tr>\n",
       "      <th>61190</th>\n",
       "      <td>0.101335</td>\n",
       "      <td>5.381053e-06</td>\n",
       "      <td>1.649612e-02</td>\n",
       "      <td>4.337934e-14</td>\n",
       "      <td>3.324350e-16</td>\n",
       "      <td>8.993803e-01</td>\n",
       "      <td>1.170243e-04</td>\n",
       "      <td>5.219787e-03</td>\n",
       "      <td>1.501381e-03</td>\n",
       "      <td>9.964410e-01</td>\n",
       "      <td>2.088514e-02</td>\n",
       "      <td>8.996457e-03</td>\n",
       "      <td>0.989495</td>\n",
       "      <td>0.995236</td>\n",
       "      <td>6.264454e-09</td>\n",
       "      <td>1.495208e-11</td>\n",
       "      <td>0.060485</td>\n",
       "    </tr>\n",
       "  </tbody>\n",
       "</table>\n",
       "<p>61191 rows × 17 columns</p>\n",
       "</div>"
      ],
      "text/plain": [
       "       agriculture  artisinal_mine   bare_ground      blooming     blow_down  \\\n",
       "0         0.003660    2.238588e-11  1.562238e-04  1.974943e-02  5.635653e-05   \n",
       "1         0.080094    7.525460e-14  1.423597e-03  6.177402e-02  4.090965e-04   \n",
       "2         0.000444    1.415443e-15  3.288607e-11  1.851315e-08  1.253346e-07   \n",
       "3         0.074279    3.544771e-09  7.995665e-04  1.558542e-02  2.176553e-03   \n",
       "4         0.000103    1.112891e-21  1.044754e-06  1.182667e-11  1.349791e-11   \n",
       "...            ...             ...           ...           ...           ...   \n",
       "61186     0.000067    1.788079e-16  1.914406e-07  1.338591e-17  4.794042e-25   \n",
       "61187     0.137673    4.875626e-06  3.762454e-03  1.952928e-09  2.133894e-18   \n",
       "61188     0.021262    2.968746e-13  3.180590e-05  1.495737e-02  3.659725e-04   \n",
       "61189     0.042246    2.630130e-15  6.501871e-10  1.265242e-12  1.438611e-15   \n",
       "61190     0.101335    5.381053e-06  1.649612e-02  4.337934e-14  3.324350e-16   \n",
       "\n",
       "              clear        cloudy  conventional_mine   cultivation  \\\n",
       "0      9.999381e-01  3.846910e-07       2.436653e-14  1.927346e-03   \n",
       "1      9.995233e-01  6.847761e-11       2.738957e-13  4.028440e-02   \n",
       "2      9.113579e-13  1.337442e-10       5.962431e-12  2.215331e-07   \n",
       "3      6.694387e-01  3.155474e-09       3.250883e-11  5.763552e-02   \n",
       "4      5.767477e-09  3.015366e-08       1.221500e-18  2.108065e-06   \n",
       "...             ...           ...                ...           ...   \n",
       "61186  6.738871e-03  9.574043e-01       2.718160e-13  3.793274e-05   \n",
       "61187  9.999945e-01  2.502862e-11       4.405455e-07  2.901256e-04   \n",
       "61188  9.995973e-01  4.627479e-09       1.865615e-14  1.772836e-02   \n",
       "61189  3.104836e-03  8.640648e-01       1.817077e-15  4.125118e-03   \n",
       "61190  8.993803e-01  1.170243e-04       5.219787e-03  1.501381e-03   \n",
       "\n",
       "         habitation          haze  partly_cloudy   primary      road  \\\n",
       "0      2.158016e-03  4.184544e-04   1.238821e-06  0.999998  0.006109   \n",
       "1      3.026277e-03  3.544687e-05   9.802645e-05  1.000000  0.136897   \n",
       "2      5.950621e-10  3.686133e-09   1.000000e+00  1.000000  0.000323   \n",
       "3      6.522298e-03  2.414882e-04   5.573432e-01  1.000000  0.022636   \n",
       "4      6.426093e-06  1.928415e-05   9.999957e-01  1.000000  0.000051   \n",
       "...             ...           ...            ...       ...       ...   \n",
       "61186  2.140000e-01  3.590584e-04   1.772940e-04  0.019262  0.168351   \n",
       "61187  2.660155e-04  1.519570e-06   2.851652e-09  0.983604  0.002865   \n",
       "61188  4.792362e-03  4.566533e-05   8.198278e-05  1.000000  0.014870   \n",
       "61189  1.322925e-04  1.882710e-01   7.739484e-06  0.139216  0.009465   \n",
       "61190  9.964410e-01  2.088514e-02   8.996457e-03  0.989495  0.995236   \n",
       "\n",
       "       selective_logging    slash_burn     water  \n",
       "0           4.402757e-03  5.156556e-10  0.004909  \n",
       "1           1.608261e-01  8.078378e-08  0.035733  \n",
       "2           1.575155e-11  5.134713e-16  0.000717  \n",
       "3           8.185118e-03  3.373260e-07  0.010418  \n",
       "4           5.381574e-20  1.666527e-16  0.000338  \n",
       "...                  ...           ...       ...  \n",
       "61186       2.943224e-12  1.134209e-13  0.007027  \n",
       "61187       2.089549e-11  8.694821e-07  0.837821  \n",
       "61188       5.827755e-03  2.282982e-09  0.010748  \n",
       "61189       2.259482e-08  2.681127e-14  0.018086  \n",
       "61190       6.264454e-09  1.495208e-11  0.060485  \n",
       "\n",
       "[61191 rows x 17 columns]"
      ]
     },
     "execution_count": 84,
     "metadata": {},
     "output_type": "execute_result"
    }
   ],
   "source": [
    "df"
   ]
  },
  {
   "cell_type": "code",
   "execution_count": 87,
   "metadata": {
    "execution": {
     "iopub.execute_input": "2023-01-16T19:10:49.278976Z",
     "iopub.status.busy": "2023-01-16T19:10:49.278424Z",
     "iopub.status.idle": "2023-01-16T19:12:49.943719Z",
     "shell.execute_reply": "2023-01-16T19:12:49.941794Z",
     "shell.execute_reply.started": "2023-01-16T19:10:49.278935Z"
    }
   },
   "outputs": [
    {
     "name": "stderr",
     "output_type": "stream",
     "text": [
      "100%|██████████| 61191/61191 [02:00<00:00, 507.68it/s]\n"
     ]
    }
   ],
   "source": [
    "ypreds = []\n",
    "for i in tqdm(range(df.shape[0]), miniters=1000):\n",
    "    z = df.loc[[i]]\n",
    "    z = z.apply(lambda x: x > 0.2, axis=1)\n",
    "    z = z.transpose()\n",
    "    z= z.loc[z[i] == True]\n",
    "    ' '.join(list(z.index))\n",
    "    ypreds.append(' '.join(list(z.index)))\n",
    "\n",
    "sample_submission['tags'] = ypreds\n",
    "sample_submission.to_csv('final_subm.csv', index=False)"
   ]
  },
  {
   "cell_type": "markdown",
   "metadata": {},
   "source": [
    "# Stage D Quiz - Section 1 "
   ]
  },
  {
   "cell_type": "markdown",
   "metadata": {},
   "source": [
    "Q1. The following are examples of Hyperparameters employed in Neural networks to improve the performance of a model. Choose the option(s) not appropriate\n",
    "Ans: Momentum\n",
    "    \n",
    "Q2. Which of the neural network architectures in the options below perform weight sharing?\n",
    "Ans: Convolutional Neural Network\n",
    "    \n",
    "Q3. Which of the following techniques in a neural network is used to prevent Overfitting?\n",
    "Ans: All of the above\n",
    "    \n",
    "Q4. Which of the following options is TRUE about Perceptrons?\n",
    "Ans: It is also called a single-layer neural network\n",
    "    \n",
    "Q5. Inductive Learning is based on the knowledge that if something happens a lot it is likely to be generally ______\n",
    "Ans: True\n",
    "\n",
    "Q6. Which of the following is the structure of the input to an artificial neuron?\n",
    "Ans: Weighted sum of bias + inputs\n",
    "    \n",
    "Q7. Which of the following is FALSE about Deep Learning and Machine Learning algorithm?\n",
    "Ans: Feature Extraction needs to be done manually in both ML and DL algorithm\n",
    "    \n",
    "Q8. Which of the following is a type of Neural Network?\n",
    "Ans: Convolutional Neural Network (CNN)\n",
    "    \n",
    "Q9. What is the purpose of an activation function?\n",
    "Ans: To normalize the inputs\n",
    "\n",
    "Q10. What are the factors to consider when selecting the depth of a neural network?\n",
    "Ans: 1,2,4,5\n",
    "    \n",
    "Q11. Which of the following is true for Neural Networks?\n",
    "I. Artificial neurons are Identical in operations to biological ones. II. Neural networks can be simulated on a conventional computer . III. The training time depends on the size of the network\n",
    "Ans: II and III\n",
    "    \n",
    "Q12. What is back propagation?\n",
    "Ans: It is the transmission of error back through the network to allow weights to be adjusted so that the network can learn\n",
    "    \n",
    "Q13. Which is the most direct application of neural networks?\n",
    "Ans: Pattern classification\n",
    "\n",
    "Q14. What are the pros of neural networks over computers?\n",
    "Ans: All of the above\n",
    "    \n",
    "Q15. Which of the following is false?\n",
    "Ans: None of the above\n",
    "    \n",
    "Q16. The fundamental unit of network is\n",
    "Ans: Neuron\n",
    "    \n",
    "Q17. What is the function of the Axon and Dendrite?\n",
    "Ans: Transmit and Collect signals\n",
    "    \n",
    "Q18. Which of the following do you understand is an example of active learning?\n",
    "I. Automated Vehicles\n",
    "II. Recommender Systems\n",
    "III. Dust Cleaning Machine\n",
    "Ans: II only\n",
    "\n",
    "Q19. Which of the following is also referred to as explanatory learning?\n",
    "Ans: Unsupervised learning\n",
    "    \n",
    "Q20. How many types of learning do you know are available in machine learning?\n",
    "Ans: 4"
   ]
  },
  {
   "cell_type": "code",
   "execution_count": null,
   "metadata": {},
   "outputs": [],
   "source": []
  }
 ],
 "metadata": {
  "kernelspec": {
   "display_name": "Python 3 (ipykernel)",
   "language": "python",
   "name": "python3"
  },
  "language_info": {
   "codemirror_mode": {
    "name": "ipython",
    "version": 3
   },
   "file_extension": ".py",
   "mimetype": "text/x-python",
   "name": "python",
   "nbconvert_exporter": "python",
   "pygments_lexer": "ipython3",
   "version": "3.9.13"
  }
 },
 "nbformat": 4,
 "nbformat_minor": 4
}
